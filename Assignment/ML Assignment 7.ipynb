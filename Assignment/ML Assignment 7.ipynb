{
 "cells": [
  {
   "attachments": {},
   "cell_type": "markdown",
   "metadata": {},
   "source": [
    "###  1.How sci-kit learn module performs feature scaling?"
   ]
  },
  {
   "attachments": {},
   "cell_type": "markdown",
   "metadata": {},
   "source": [
    "* Using Standardisation{standard scaler}"
   ]
  },
  {
   "attachments": {},
   "cell_type": "markdown",
   "metadata": {},
   "source": [
    "### 2.If you are performing feature scaling, what you will prefer Standardisation or Normalization?"
   ]
  },
  {
   "attachments": {},
   "cell_type": "markdown",
   "metadata": {},
   "source": [
    "* Any of the two mwthos"
   ]
  },
  {
   "attachments": {},
   "cell_type": "markdown",
   "metadata": {},
   "source": [
    "### 3.What is the difference between the residual sum of squares and regularization?"
   ]
  },
  {
   "attachments": {},
   "cell_type": "markdown",
   "metadata": {},
   "source": [
    "* RSS  :- residual sumof squares is the sum of all the differences between the predicted values and the actual output vales\n",
    "\n",
    "* Regularisation is an operation that tends to reduce model complexity orreduce overfitting"
   ]
  },
  {
   "attachments": {},
   "cell_type": "markdown",
   "metadata": {},
   "source": [
    "### 4.Differentiate between L1, L2, and Elastic Net regularization on the basis of the alpha parameter in scikit learn?"
   ]
  },
  {
   "attachments": {},
   "cell_type": "markdown",
   "metadata": {},
   "source": [
    "* L1 regularisation :- Lasso regretions tends to introduce a penalty  term equal to the absolute value of the magnitude of the co-efficients\n",
    "\n",
    "* L2 regularization :- Ridge regression penalizes the model based on the sum of the magnitude of the coefficients\n",
    "\n",
    "* elastic net :- Its a combination of L1 and L2 regularization "
   ]
  },
  {
   "attachments": {},
   "cell_type": "markdown",
   "metadata": {},
   "source": [
    "### 5.Suppose overfitting is happening, what kind of regularization you will prefer to perform?"
   ]
  },
  {
   "attachments": {},
   "cell_type": "markdown",
   "metadata": {},
   "source": [
    "* L2 regularization"
   ]
  },
  {
   "cell_type": "markdown",
   "metadata": {},
   "source": []
  }
 ],
 "metadata": {
  "kernelspec": {
   "display_name": "Python 3",
   "language": "python",
   "name": "python3"
  },
  "language_info": {
   "name": "python",
   "version": "3.11.1 (tags/v3.11.1:a7a450f, Dec  6 2022, 19:58:39) [MSC v.1934 64 bit (AMD64)]"
  },
  "orig_nbformat": 4,
  "vscode": {
   "interpreter": {
    "hash": "abe0a7695b1d058efe24f578b693f6f80756d17c96dc2cea09db0d1eae3bf67c"
   }
  }
 },
 "nbformat": 4,
 "nbformat_minor": 2
}
