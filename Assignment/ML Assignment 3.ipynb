{
 "cells": [
  {
   "cell_type": "markdown",
   "metadata": {},
   "source": [
    "### 1. Which Linear Regression algorithm we can use if we have a training set with millions of features?"
   ]
  },
  {
   "attachments": {},
   "cell_type": "markdown",
   "metadata": {},
   "source": [
    "* Gradient descent"
   ]
  },
  {
   "cell_type": "markdown",
   "metadata": {},
   "source": [
    "### 2. Can the Gradient Descent Algorithm get stuck in a local minimum when training a linear regression model?"
   ]
  },
  {
   "attachments": {},
   "cell_type": "markdown",
   "id": "ceb52300",
   "metadata": {},
   "source": [
    "* Yes it can, if the the learning rate does not change or is constant"
   ]
  },
  {
   "cell_type": "markdown",
   "metadata": {},
   "source": [
    "### 3. Do all Gradient Descent Algorithms lead to the same model if they are running for the same no of epochs?"
   ]
  },
  {
   "attachments": {},
   "cell_type": "markdown",
   "id": "003a1310",
   "metadata": {},
   "source": [
    "*  No becaus of its covex nature"
   ]
  },
  {
   "cell_type": "markdown",
   "metadata": {},
   "source": [
    "### 4. If you are doing a batch gradient descent and you are monitoring the validation error at every epoch. If the validation error is constantly increasing what can be the problem? How to fix that?"
   ]
  },
  {
   "attachments": {},
   "cell_type": "markdown",
   "id": "ea2ab917",
   "metadata": {},
   "source": [
    "* The learning rate is too high and will require reducing"
   ]
  },
  {
   "cell_type": "markdown",
   "id": "f3fbfd15",
   "metadata": {},
   "source": []
  }
 ],
 "metadata": {
  "kernelspec": {
   "display_name": "base",
   "language": "python",
   "name": "python3"
  },
  "language_info": {
   "codemirror_mode": {
    "name": "ipython",
    "version": 3
   },
   "file_extension": ".py",
   "mimetype": "text/x-python",
   "name": "python",
   "nbconvert_exporter": "python",
   "pygments_lexer": "ipython3",
   "version": "3.8.5 (default, Sep  3 2020, 21:29:08) [MSC v.1916 64 bit (AMD64)]"
  },
  "vscode": {
   "interpreter": {
    "hash": "3c931074becfb3c3533f2b74f826470fc2ac3308cdc068129b431a82cf1d0d6d"
   }
  }
 },
 "nbformat": 4,
 "nbformat_minor": 5
}
