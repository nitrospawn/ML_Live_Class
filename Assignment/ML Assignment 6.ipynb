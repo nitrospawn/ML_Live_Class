{
 "cells": [
  {
   "attachments": {},
   "cell_type": "markdown",
   "metadata": {},
   "source": [
    "### 1.What are the reasons for feature scaling?"
   ]
  },
  {
   "attachments": {},
   "cell_type": "markdown",
   "metadata": {},
   "source": [
    "* it helps to solve the problem of convergence, by making the magnitude of points similar"
   ]
  },
  {
   "attachments": {},
   "cell_type": "markdown",
   "metadata": {},
   "source": [
    "### 2.What is the difference between Feature Selection under Feature Engineering? Can you perform feature selection using regularization, if yes then how?"
   ]
  },
  {
   "attachments": {},
   "cell_type": "markdown",
   "metadata": {},
   "source": [
    "* feature selection is the process of extracting features that is most significant in affection the output of our model\n",
    "\n",
    "* Feature selection can be performed using regularization, when it tries to reduce the insignificant coeficients to zero thereby reducing the equation to just the significant values or features\n"
   ]
  },
  {
   "attachments": {},
   "cell_type": "markdown",
   "metadata": {},
   "source": [
    "### 3.Suppose you are working on a Machine Learning problem, your training accuracy is lower than the testing accuracy, what can be the reason for this?"
   ]
  },
  {
   "attachments": {},
   "cell_type": "markdown",
   "metadata": {},
   "source": [
    "* Underfitting"
   ]
  },
  {
   "attachments": {},
   "cell_type": "markdown",
   "metadata": {},
   "source": [
    "### 4.You are training a machine learning model, your training and the testing accuracy are decreasing, what can be the reason for this?"
   ]
  },
  {
   "attachments": {},
   "cell_type": "markdown",
   "metadata": {},
   "source": [
    "* Overfitting"
   ]
  },
  {
   "attachments": {},
   "cell_type": "markdown",
   "metadata": {},
   "source": [
    "### 5.What solutions you can provide for optimal bias-variance levels in a machine learning problem?"
   ]
  },
  {
   "attachments": {},
   "cell_type": "markdown",
   "metadata": {},
   "source": [
    "* by introducing regularization which tends to purnish the cost function creating a bias variance trade off"
   ]
  },
  {
   "cell_type": "markdown",
   "metadata": {},
   "source": []
  }
 ],
 "metadata": {
  "kernelspec": {
   "display_name": "Python 3",
   "language": "python",
   "name": "python3"
  },
  "language_info": {
   "name": "python",
   "version": "3.11.1 (tags/v3.11.1:a7a450f, Dec  6 2022, 19:58:39) [MSC v.1934 64 bit (AMD64)]"
  },
  "orig_nbformat": 4,
  "vscode": {
   "interpreter": {
    "hash": "abe0a7695b1d058efe24f578b693f6f80756d17c96dc2cea09db0d1eae3bf67c"
   }
  }
 },
 "nbformat": 4,
 "nbformat_minor": 2
}
